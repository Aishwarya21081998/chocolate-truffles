{
 "cells": [
  {
   "cell_type": "code",
   "execution_count": 34,
   "metadata": {},
   "outputs": [],
   "source": [
    "\"\"\" \n",
    "    @script_author: Aishwarya Lakshmi\n",
    "    @script_name: k-NN algorithm for predictions without the use of any packages\n",
    "    @script-description: For the given sample dataset, k-NN algorithm is applied without using any of the packages to predict the variable value\n",
    "    @script_packages_used: None\n",
    "\"\"\"\n",
    "# Module Math is imported for the usage of mathematical function- square root \n",
    "import math\n",
    "\n",
    "# The given dataset is a sample taken from unknown source. The last variable in the train data is the target variable.\n",
    "# The target variable is to be predicted for the test data.\n",
    "# Import dataset as train data\n",
    "train_data=[[40,174,63,5.7,69],\n",
    "            [50,126,73,5.0,66],\n",
    "            [32,140,72,5.3,85],\n",
    "            [48,123,64,6.1,88],\n",
    "            [28,132,74,4.6,83],\n",
    "            [27,178,74,5.2,82],\n",
    "            [26,148,77,6.0,88],\n",
    "            [23,120,68,5.8,75],\n",
    "            [38,177,73,4.5,70],\n",
    "            [29,101,72,6.3,88]]\n",
    "\n",
    "# Import the test data\n",
    "test_data=[[50,130,70,5.0],\n",
    "          [32,145,60,4.9]]\n",
    "\n",
    "# The value of k is to be determined before the process begins.\n",
    "# k value is assigned.\n",
    "k=5"
   ]
  },
  {
   "cell_type": "code",
   "execution_count": 35,
   "metadata": {},
   "outputs": [],
   "source": [
    "# for loop for iterating through the rows of test data.\n",
    "for test1 in test_data:\n",
    "    # Creating an empty list called dis\n",
    "    dis=[]\n",
    "    # for loop for iterating through lists in the train data\n",
    "    for train1 in train_data:\n",
    "        dist= 0\n",
    "        # for loop for iterating through the elements of the lists o train data\n",
    "        # The target variable is not considered\n",
    "        for i in range(len(train1)-1):\n",
    "            # Difference is taken between the train data values and the test data values\n",
    "            diff= ((train1[i] - test1[i])**2)\n",
    "            dist= dist + diff\n",
    "        # Square root is applied using the module math\n",
    "        dis.append(math.sqrt(dist))\n",
    "        # The values are copied.\n",
    "        dis_copy = dis.copy()\n",
    "        # Then the distance values are sorted\n",
    "        dis_copy.sort()\n",
    "        "
   ]
  },
  {
   "cell_type": "code",
   "execution_count": 36,
   "metadata": {},
   "outputs": [],
   "source": [
    "    # The original indices are printed.\n",
    "    dis_ind = [dis.index(j) for j in dis_copy]\n",
    "    dis_ind = dis_ind[0:k]"
   ]
  },
  {
   "cell_type": "code",
   "execution_count": 38,
   "metadata": {},
   "outputs": [
    {
     "ename": "IndentationError",
     "evalue": "expected an indented block (<ipython-input-38-242f31eb71d6>, line 8)",
     "output_type": "error",
     "traceback": [
      "\u001b[1;36m  File \u001b[1;32m\"<ipython-input-38-242f31eb71d6>\"\u001b[1;36m, line \u001b[1;32m8\u001b[0m\n\u001b[1;33m    print(\"The predicted value is \"+ str(pred))\u001b[0m\n\u001b[1;37m        ^\u001b[0m\n\u001b[1;31mIndentationError\u001b[0m\u001b[1;31m:\u001b[0m expected an indented block\n"
     ]
    }
   ],
   "source": [
    "    # The predicted values are assigned to the variable pred\n",
    "    # These values are obtained using the below formula.\n",
    "    pred= [sum([train_data[l][len(train_data[l])-1] for l in dis_ind])/k]\n",
    "    \n",
    "    \n",
    "    # For the test data, the predicted target variable values are printed.\n",
    "    if len(pred)==1:\n",
    "        print(\"The predicted value is \"+ str(pred))\n",
    "    else:\n",
    "        print(\"The predicted values are \"+ str(pred))\n",
    "    "
   ]
  },
  {
   "cell_type": "code",
   "execution_count": null,
   "metadata": {},
   "outputs": [],
   "source": []
  }
 ],
 "metadata": {
  "kernelspec": {
   "display_name": "Python 3",
   "language": "python",
   "name": "python3"
  },
  "language_info": {
   "codemirror_mode": {
    "name": "ipython",
    "version": 3
   },
   "file_extension": ".py",
   "mimetype": "text/x-python",
   "name": "python",
   "nbconvert_exporter": "python",
   "pygments_lexer": "ipython3",
   "version": "3.7.3"
  }
 },
 "nbformat": 4,
 "nbformat_minor": 2
}
